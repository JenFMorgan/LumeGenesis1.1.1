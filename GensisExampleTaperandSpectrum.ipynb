{
 "cells": [
  {
   "cell_type": "code",
   "execution_count": 1,
   "id": "7b890d9e-4f3d-4f63-93c8-f58ee34f1baf",
   "metadata": {},
   "outputs": [],
   "source": [
    "from genesis.version4 import Genesis4, Write\n",
    "import genesis.version4 as g4\n",
    "from genesis import tools\n",
    "import os\n",
    "import matplotlib.pyplot as plt\n",
    "import matplotlib\n",
    "import numpy as np\n",
    "\n",
    "\n",
    "from TaperFunctions import *   #import adiational functions\n",
    "\n",
    "Genesis4.apply_taper = apply_taper"
   ]
  },
  {
   "cell_type": "code",
   "execution_count": 2,
   "id": "b5cdafa2-c16d-492c-9774-992b28a0b3ea",
   "metadata": {},
   "outputs": [],
   "source": [
    "run_file_location=os.path.expandvars('$LCLS_LATTICE/genesis/version4/cu_hxr/')\n",
    "run_file=os.path.expandvars('cu_hxr.in')\n",
    "Lattice_file=os.path.expandvars('hxr.lat')\n",
    "workdir=os.path.expandvars('$SCRATCH')"
   ]
  },
  {
   "cell_type": "code",
   "execution_count": 3,
   "id": "15793a26-bd9c-4e98-94d7-55dbc6a587c9",
   "metadata": {},
   "outputs": [
    {
     "data": {
      "text/plain": [
       "'/sdf/scratch/users/j/jmorgan/beam_gamma.h5'"
      ]
     },
     "execution_count": 3,
     "metadata": {},
     "output_type": "execute_result"
    }
   ],
   "source": [
    "### Genesis4 looks for additional files in the workdir, not the file location.\n",
    "## We can get around this by copying the beam current and gamma to scratch. \n",
    "## We get around this by copying these to scratch\n",
    "\n",
    "import shutil\n",
    "\n",
    "\n",
    "shutil.copy(run_file_location +'beam_current.h5' , workdir)\n",
    "\n",
    "shutil.copy(run_file_location +'beam_gamma.h5' , workdir)"
   ]
  },
  {
   "cell_type": "code",
   "execution_count": 4,
   "id": "10f31609-ff14-491e-9cba-31e09976dd29",
   "metadata": {},
   "outputs": [],
   "source": [
    "def runGenesis(run_file_location, run_file,Lattice_file, workdir, nproc=2):\n",
    "\n",
    "\n",
    "    file=run_file_location + run_file\n",
    "    \n",
    "    G = Genesis4(file, lattice= run_file_location + Lattice_file, workdir=workdir, verbose = True)\n",
    "\n",
    "\n",
    "   # G.input.main.beam.alphax=1.0   #example in how to change the input file. \n",
    "    \n",
    "    G.input.main.namelists.append(Write(field=\"end\"))\n",
    "\n",
    "\n",
    "    Kstart=1.7017\n",
    "    taper=0.1\n",
    "    nwig=130\n",
    "    xlamdu=0.026\n",
    "    ustart = 31\n",
    "    ustop = 33\n",
    "    l_und = 0.026\n",
    "\n",
    "    G.apply_taper(Kstart = Kstart, dKbyK = taper, ustart = ustart, ustop = ustop, nwig =nwig, uperiod = xlamdu, order = 1)\n",
    "\n",
    "    \n",
    "    G.nproc = nproc  \n",
    "    \n",
    "    G.write_input(path=G.path, write_run_script=True)\n",
    "\n",
    "  \n",
    "\n",
    "    G.mpi_run='salloc --partition milano --account ad:beamphysics --mem-per-cpu=4g -n {nproc} mpirun -n {nproc} {command_mpi}'\n",
    "\n",
    "    G.run()\n",
    "\n",
    "    \n",
    "    \n",
    "    return G"
   ]
  },
  {
   "cell_type": "code",
   "execution_count": 5,
   "id": "99ef1fe3-25fd-4b74-a87f-7a093ebfa7bc",
   "metadata": {},
   "outputs": [
    {
     "name": "stdout",
     "output_type": "stream",
     "text": [
      "apply taper  32\n",
      "Configured to run in: /sdf/scratch/users/j/jmorgan/tmpqxlcdnp7\n",
      "Setting use_mpi = True because nproc = 20\n",
      "Running Genesis4 in /sdf/scratch/users/j/jmorgan/tmpqxlcdnp7\n",
      "salloc --partition milano --account ad:beamphysics --mem-per-cpu=4g -n 20 mpirun -n 20 /sdf/home/j/jmorgan/conda/envs/Xopt/bin/genesis4 -l hxr.lat genesis4.in\n"
     ]
    },
    {
     "name": "stderr",
     "output_type": "stream",
     "text": [
      "salloc: Pending job allocation 55858475\n",
      "salloc: job 55858475 queued and waiting for resources\n",
      "salloc: job 55858475 has been allocated resources\n",
      "salloc: Granted job allocation 55858475\n",
      "salloc: Waiting for resource configuration\n",
      "salloc: Nodes sdfmilan[114-115] are ready for job\n"
     ]
    },
    {
     "name": "stdout",
     "output_type": "stream",
     "text": [
      "---------------------------------------------\n",
      "GENESIS - Version 4.6.6 has started...\n",
      "Compile info: Compiled by conda at 2024-06-10 16:25:29 [UTC] from Git Commit ID: 07004e4cb437003b4b6cf024122db18caee13722\n",
      "Starting Time: Fri Sep 20 13:10:56 2024\n",
      "\n",
      "MPI-Comm Size: 20 nodes\n",
      "\n",
      "Opened input file genesis4.in\n",
      "Parsing lattice file hxr.lat ...\n",
      "Setting up time window of 15.444 microns with 560 sample points...\n",
      "Generating input radiation field for HARM = 1 ...\n",
      "Adding profile with label: beamcurrent\n",
      "Adding profile with label: beamgamma\n",
      "Generating input particle distribution...\n",
      "\n",
      "Running Core Simulation...\n",
      "Time-dependent run with 560 slices for a time window of 15.444 microns\n",
      "Initial analysis of electron beam and radiation field...\n",
      "  Calculation: 0% done\n",
      "  Calculation: 10% done\n",
      "  Calculation: 20% done\n",
      "  Calculation: 30% done\n",
      "  Calculation: 40% done\n",
      "  Calculation: 50% done\n",
      "  Calculation: 60% done\n",
      "  Calculation: 70% done\n",
      "  Calculation: 80% done\n",
      "  Calculation: 90% done\n",
      "Calculation terminated due to requested stop.\n",
      "Writing output file...\n",
      "\n",
      "Core Simulation done.\n",
      "End of Track\n",
      "Writing field distribution to file: end.fld.h5 ...\n",
      "\n",
      "Program is terminating...\n",
      "Ending Time: Fri Sep 20 13:12:13 2024\n",
      "Total Wall Clock Time: 76.0924 seconds\n",
      "-------------------------------------\n",
      "Success - execution took 82.06s.\n"
     ]
    },
    {
     "name": "stderr",
     "output_type": "stream",
     "text": [
      "salloc: Relinquishing job allocation 55858475\n",
      "salloc: Job allocation 55858475 has been revoked.\n"
     ]
    }
   ],
   "source": [
    "G=runGenesis(run_file_location, run_file,Lattice_file, workdir, nproc=20)"
   ]
  },
  {
   "cell_type": "code",
   "execution_count": 6,
   "id": "3c4ad3d5-100b-4a80-b1a1-8ef03bc81cba",
   "metadata": {},
   "outputs": [],
   "source": [
    "from scipy.constants import c, e, epsilon_0\n",
    "import scipy\n",
    "h = scipy.constants.value(\"Planck constant in eV/Hz\")\n",
    "\n",
    "def spectrum_from_field(field, dt=1):\n",
    "    \"\"\"\n",
    "    Calculates the spectrum (fourier transformed field)\n",
    "    from a complex field array with spacing dt.\n",
    "\n",
    "    Parameters\n",
    "    ----------\n",
    "    field: nd.array of shape (n,)\n",
    "        Complex field\n",
    "\n",
    "    dt: float\n",
    "        Spacing of the field data in some units (e.g. 's')\n",
    "\n",
    "    Returns\n",
    "    -------\n",
    "    freqs: nd.array of shape (n,)\n",
    "        Frequencies in reciprocal space with inverse units (e.g. 'Hz = 1/s')\n",
    "\n",
    "    spectrum: nd.array of shape (n,)\n",
    "        The fourier transformed field\n",
    "\n",
    "    \"\"\"\n",
    "    if len(field.shape) != 1:\n",
    "        raise ValueError(\"Only 1D arrays are currently supported\")\n",
    "    spectrum = np.fft.fftshift(np.fft.fft(field)) * dt\n",
    "\n",
    "    ns = len(field)\n",
    "    freqs = np.fft.fftshift(np.fft.fftfreq(ns, dt))\n",
    "\n",
    "    return freqs, spectrum\n",
    "\n",
    "\n",
    "def plotspectrum(G):\n",
    "    \"\"\"\n",
    "    This function is based on the example on github\n",
    "    \n",
    "    Parameters:\n",
    "    G (Genesis object): The Genesis object containing simulation output data.\n",
    "    \n",
    "    Returns:\n",
    "    peak_fluence (float): The maximum spectral fluence.\n",
    "    peak_energy (float): The photon energy at the peak spectral fluence.\n",
    "    fwhm_bandwidth (float): The Full Width at Half Maximum (FWHM) of the spectrum in eV.\n",
    "    \"\"\"\n",
    "    G.output.load_fields()\n",
    "    # Extract parameters from Genesis output\n",
    "    param = G.output.field3d[\"end\"].param\n",
    "    Ns = param.slicecount\n",
    "    ds = param.slicespacing\n",
    "    λ0 = param.wavelength\n",
    "    f0 = c / λ0\n",
    "    dt = ds / c\n",
    "    Δ = param.gridsize\n",
    "\n",
    "    field = G.output.field\n",
    "    intensity0 = field.intensity_nearfield[-1, :]  # W/m^2\n",
    "    phase0 = field.phase_nearfield[-1, :]  # radian\n",
    "\n",
    "\n",
    "    field0 = np.sqrt(intensity0) * np.exp(1j * phase0) * Δ\n",
    "    \n",
    "    # Frequency and spectrum calculation\n",
    "    freqs, spectrum = spectrum_from_field(field0, dt)\n",
    "    \n",
    "    # Convert to photon energies (eV) and compute spectral fluence (J/m^2/eV)\n",
    "    photon_energies = h * (freqs + f0)  # eV\n",
    "    spectral_fluence = np.abs(spectrum**2) / Δ**2 / h  # J/m^2/eV\n",
    "\n",
    "\n",
    "    fig, ax = plt.subplots()\n",
    "    ax.plot(photon_energies, spectral_fluence)\n",
    "    ax.set_xlabel(\"photon energy (eV)\")  \n",
    "    ax.set_ylabel(r\"spectral fluence (J/m$^2$/eV)\")\n",
    "    \n"
   ]
  },
  {
   "cell_type": "code",
   "execution_count": 7,
   "id": "8a40fcae-def3-4c6e-b7de-7996fed98626",
   "metadata": {},
   "outputs": [
    {
     "data": {
      "image/png": "[encoded data removed]",
      "text/plain": [
       "<Figure size 640x480 with 1 Axes>"
      ]
     },
     "metadata": {},
     "output_type": "display_data"
    }
   ],
   "source": [
    "plotspectrum(G)"
   ]
  },
  {
   "cell_type": "code",
   "execution_count": null,
   "id": "636b1b52-e5c2-4952-a091-1467ed3cf7f0",
   "metadata": {},
   "outputs": [],
   "source": []
  }
 ],
 "metadata": {
  "kernelspec": {
   "display_name": "Python 3 (ipykernel)",
   "language": "python",
   "name": "python3"
  },
  "language_info": {
   "codemirror_mode": {
    "name": "ipython",
    "version": 3
   },
   "file_extension": ".py",
   "mimetype": "text/x-python",
   "name": "python",
   "nbconvert_exporter": "python",
   "pygments_lexer": "ipython3",
   "version": "3.9.19"
  }
 },
 "nbformat": 4,
 "nbformat_minor": 5
}
